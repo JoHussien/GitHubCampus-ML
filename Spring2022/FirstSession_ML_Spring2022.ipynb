{
  "cells": [
    {
      "cell_type": "markdown",
      "metadata": {
        "id": "view-in-github",
        "colab_type": "text"
      },
      "source": [
        "<a href=\"https://colab.research.google.com/github/JoHussien/GitHubCampus-ML/blob/main/Spring2022/FirstSession_ML_Spring2022.ipynb\" target=\"_parent\"><img src=\"https://colab.research.google.com/assets/colab-badge.svg\" alt=\"Open In Colab\"/></a>"
      ]
    },
    {
      "cell_type": "markdown",
      "id": "ad6c4b3e",
      "metadata": {
        "id": "ad6c4b3e"
      },
      "source": [
        "# Modules\n",
        "\n",
        "We will use several python modules during our labs\n",
        "Some of them will help us to analyse, manage, visualize our data and also if we wanted to creat and implement any needed algorithms during the course like:\n",
        "- numpy\n",
        "- pandas\n",
        "- matplotlib\n",
        "- scipy\n",
        "- seaborn\n",
        ".... etc\n",
        "\n",
        "and others will help us in case if we needed to use the algorithms without implementing them like:\n",
        "- scikit-learn\n",
        "- mediapipe\n",
        "...etc\n",
        "\n",
        "So we will get to know \"quickly\" each module\n",
        "\n",
        "Let's Go!!"
      ]
    },
    {
      "cell_type": "markdown",
      "id": "73baa83a",
      "metadata": {
        "id": "73baa83a"
      },
      "source": [
        "## Installation"
      ]
    },
    {
      "cell_type": "code",
      "execution_count": null,
      "id": "18a715b8",
      "metadata": {
        "id": "18a715b8"
      },
      "outputs": [],
      "source": [
        "#type this command in your cmd, powershell or Terminal\n",
        "\n",
        "#!pip install numpy pandas matplotlib seaborn scipy"
      ]
    },
    {
      "cell_type": "markdown",
      "id": "d6f08a51",
      "metadata": {
        "id": "d6f08a51"
      },
      "source": [
        "## Imports"
      ]
    },
    {
      "cell_type": "code",
      "execution_count": null,
      "id": "3705926f",
      "metadata": {
        "id": "3705926f"
      },
      "outputs": [],
      "source": [
        "import numpy as np\n",
        "import pandas as pd\n",
        "import matplotlib.pyplot as plt"
      ]
    },
    {
      "cell_type": "markdown",
      "id": "d58d4b9f",
      "metadata": {
        "id": "d58d4b9f"
      },
      "source": [
        "# Numpy\n",
        "\n",
        "#### NumPy is  a Linear Algebra Library for Python , it is important for Machine learning and Data Science in Python because of that almost all libraries in the PyData Ecosystem rely on NumPy as one of their main building blocks\n"
      ]
    },
    {
      "cell_type": "markdown",
      "id": "fae93129",
      "metadata": {
        "id": "fae93129"
      },
      "source": [
        "### Ndarray"
      ]
    },
    {
      "cell_type": "code",
      "execution_count": null,
      "id": "f0f2da1c",
      "metadata": {
        "id": "f0f2da1c",
        "outputId": "3d8d2d52-422f-493b-9e0b-ec9f88b03312"
      },
      "outputs": [
        {
          "data": {
            "text/plain": [
              "[1, 2, 3]"
            ]
          },
          "execution_count": 3,
          "metadata": {},
          "output_type": "execute_result"
        }
      ],
      "source": [
        "my_list = [1,2,3]#normal list\n",
        "my_list"
      ]
    },
    {
      "cell_type": "code",
      "execution_count": null,
      "id": "d1a451c4",
      "metadata": {
        "id": "d1a451c4",
        "outputId": "304330d9-5e3b-41aa-a0d1-673ae697d9cd"
      },
      "outputs": [
        {
          "data": {
            "text/plain": [
              "array([1, 2, 3])"
            ]
          },
          "execution_count": 4,
          "metadata": {},
          "output_type": "execute_result"
        }
      ],
      "source": [
        "arr = np.array(my_list)\n",
        "arr#1-D array"
      ]
    },
    {
      "cell_type": "code",
      "execution_count": null,
      "id": "a4c1ca48",
      "metadata": {
        "id": "a4c1ca48",
        "outputId": "97cc4879-64e8-401b-8d18-c9f5996586e9"
      },
      "outputs": [
        {
          "data": {
            "text/plain": [
              "array([[1, 2, 3],\n",
              "       [4, 5, 6]])"
            ]
          },
          "execution_count": 5,
          "metadata": {},
          "output_type": "execute_result"
        }
      ],
      "source": [
        "my_mat = [[1,2,3],[4,5,6]]\n",
        "np.array(my_mat)"
      ]
    },
    {
      "cell_type": "markdown",
      "id": "5c6b7eca",
      "metadata": {
        "id": "5c6b7eca"
      },
      "source": [
        "### Data Generators "
      ]
    },
    {
      "cell_type": "code",
      "execution_count": null,
      "id": "7e093a09",
      "metadata": {
        "id": "7e093a09",
        "outputId": "fdb711f9-31b5-4045-ca6a-08342834c26a"
      },
      "outputs": [
        {
          "data": {
            "text/plain": [
              "array([ 0,  2,  4,  6,  8, 10])"
            ]
          },
          "execution_count": 6,
          "metadata": {},
          "output_type": "execute_result"
        }
      ],
      "source": [
        "np.arange(0,11,2) #numpy version of normal range"
      ]
    },
    {
      "cell_type": "code",
      "execution_count": null,
      "id": "6ce0a058",
      "metadata": {
        "id": "6ce0a058",
        "outputId": "dbfc39e0-3560-47cb-e591-915da709e146"
      },
      "outputs": [
        {
          "data": {
            "text/plain": [
              "array([0., 0., 0.])"
            ]
          },
          "execution_count": 7,
          "metadata": {},
          "output_type": "execute_result"
        }
      ],
      "source": [
        "np.zeros(3) #Vector of zeros has length 3"
      ]
    },
    {
      "cell_type": "code",
      "execution_count": null,
      "id": "b81f01b6",
      "metadata": {
        "id": "b81f01b6",
        "outputId": "a65a2aee-c623-45fa-e746-6d9615d05962"
      },
      "outputs": [
        {
          "data": {
            "text/plain": [
              "array([[0., 0., 0.],\n",
              "       [0., 0., 0.],\n",
              "       [0., 0., 0.]])"
            ]
          },
          "execution_count": 8,
          "metadata": {},
          "output_type": "execute_result"
        }
      ],
      "source": [
        "np.zeros((3,3)) #Zeros Square matrix 3x3 (Note: the dimmensions passed to the method as a tuple)"
      ]
    },
    {
      "cell_type": "code",
      "execution_count": null,
      "id": "8903434f",
      "metadata": {
        "id": "8903434f",
        "outputId": "d871e5ba-d549-4cef-a919-557f03195390"
      },
      "outputs": [
        {
          "data": {
            "text/plain": [
              "array([[0., 0., 0.],\n",
              "       [0., 0., 0.],\n",
              "       [0., 0., 0.],\n",
              "       [0., 0., 0.],\n",
              "       [0., 0., 0.]])"
            ]
          },
          "execution_count": 9,
          "metadata": {},
          "output_type": "execute_result"
        }
      ],
      "source": [
        "np.zeros([5,3])#We can pass list also but not a \"\"set\"\""
      ]
    },
    {
      "cell_type": "code",
      "execution_count": null,
      "id": "5afe68c9",
      "metadata": {
        "id": "5afe68c9",
        "outputId": "f804cbaf-fbbb-4aef-b162-692acc072074"
      },
      "outputs": [
        {
          "data": {
            "text/plain": [
              "array([[1., 0., 0., 0.],\n",
              "       [0., 1., 0., 0.],\n",
              "       [0., 0., 1., 0.],\n",
              "       [0., 0., 0., 1.]])"
            ]
          },
          "execution_count": 10,
          "metadata": {},
          "output_type": "execute_result"
        }
      ],
      "source": [
        "np.eye(4) #return identity matrix Note:It must be square matrix NxN"
      ]
    },
    {
      "cell_type": "markdown",
      "id": "035920f7",
      "metadata": {
        "id": "035920f7"
      },
      "source": [
        "### Random Arrays"
      ]
    },
    {
      "cell_type": "code",
      "execution_count": null,
      "id": "fa841459",
      "metadata": {
        "id": "fa841459",
        "outputId": "1a2e9a00-e55b-4f4c-8b13-b596f7d67200"
      },
      "outputs": [
        {
          "data": {
            "text/plain": [
              "0.5926733245858522"
            ]
          },
          "execution_count": 11,
          "metadata": {},
          "output_type": "execute_result"
        }
      ],
      "source": [
        "np.random.rand() #float between 0 and 1"
      ]
    },
    {
      "cell_type": "code",
      "execution_count": null,
      "id": "3786e695",
      "metadata": {
        "id": "3786e695",
        "outputId": "dbe6a537-1f40-432d-8d17-b773a03245d8"
      },
      "outputs": [
        {
          "data": {
            "text/plain": [
              "array([[0.84116485, 0.62429876, 0.55932663, 0.67358302, 0.22514835],\n",
              "       [0.96020708, 0.82748879, 0.44312856, 0.43538391, 0.56636332],\n",
              "       [0.5177726 , 0.06143468, 0.943404  , 0.16915665, 0.17343215],\n",
              "       [0.92848959, 0.23094548, 0.43751445, 0.27285502, 0.15194794],\n",
              "       [0.00933559, 0.93070506, 0.02951047, 0.68757535, 0.50289771]])"
            ]
          },
          "execution_count": 12,
          "metadata": {},
          "output_type": "execute_result"
        }
      ],
      "source": [
        "np.random.rand(5,5) #dimmensions passed directly not as a tuple or list"
      ]
    },
    {
      "cell_type": "markdown",
      "id": "5619672e",
      "metadata": {
        "id": "5619672e"
      },
      "source": [
        "#### normal distribution "
      ]
    },
    {
      "cell_type": "code",
      "execution_count": null,
      "id": "20f9ff68",
      "metadata": {
        "id": "20f9ff68",
        "outputId": "d14cb19b-ab7c-4d43-f9b5-9826a64bd511"
      },
      "outputs": [
        {
          "data": {
            "text/plain": [
              "-0.6525013168589348"
            ]
          },
          "execution_count": 13,
          "metadata": {},
          "output_type": "execute_result"
        }
      ],
      "source": [
        "np.random.randn()"
      ]
    },
    {
      "cell_type": "code",
      "execution_count": null,
      "id": "3964b527",
      "metadata": {
        "id": "3964b527",
        "outputId": "e25ed37e-652d-4c8a-a45b-b58f62fbae10"
      },
      "outputs": [
        {
          "data": {
            "text/plain": [
              "array([-0.68915071,  1.25773697])"
            ]
          },
          "execution_count": 14,
          "metadata": {},
          "output_type": "execute_result"
        }
      ],
      "source": [
        "np.random.randn(2)"
      ]
    },
    {
      "cell_type": "code",
      "execution_count": null,
      "id": "dd6d363b",
      "metadata": {
        "id": "dd6d363b",
        "outputId": "0fcb47d2-25ba-409b-fbf8-f9b1aea314b2"
      },
      "outputs": [
        {
          "data": {
            "text/plain": [
              "array([[-0.73345036, -0.57268769],\n",
              "       [ 1.08912297, -0.47799753]])"
            ]
          },
          "execution_count": 15,
          "metadata": {},
          "output_type": "execute_result"
        }
      ],
      "source": [
        "np.random.randn(2,2)"
      ]
    },
    {
      "cell_type": "code",
      "execution_count": null,
      "id": "e3041014",
      "metadata": {
        "id": "e3041014",
        "outputId": "93d2b078-ecdb-4719-b42c-6421146edb5a"
      },
      "outputs": [
        {
          "data": {
            "text/plain": [
              "array([14, 12, 49, 41,  6, 17, 35, 39, 32, 45])"
            ]
          },
          "execution_count": 16,
          "metadata": {},
          "output_type": "execute_result"
        }
      ],
      "source": [
        "np.random.randint(0,50,10) #return random integer withen interval passed"
      ]
    },
    {
      "cell_type": "markdown",
      "id": "0853826d",
      "metadata": {
        "id": "0853826d"
      },
      "source": [
        "### reshape()"
      ]
    },
    {
      "cell_type": "code",
      "execution_count": null,
      "id": "a0380f78",
      "metadata": {
        "id": "a0380f78"
      },
      "outputs": [],
      "source": [
        "arr = np.arange(25)"
      ]
    },
    {
      "cell_type": "code",
      "execution_count": null,
      "id": "521a3e84",
      "metadata": {
        "id": "521a3e84",
        "outputId": "b9315118-c84c-40ba-d2bc-d143d3115eb6"
      },
      "outputs": [
        {
          "data": {
            "text/plain": [
              "array([[ 0,  1,  2,  3,  4],\n",
              "       [ 5,  6,  7,  8,  9],\n",
              "       [10, 11, 12, 13, 14],\n",
              "       [15, 16, 17, 18, 19],\n",
              "       [20, 21, 22, 23, 24]])"
            ]
          },
          "execution_count": 23,
          "metadata": {},
          "output_type": "execute_result"
        }
      ],
      "source": [
        "arr.reshape(5,5) #the arr won't change"
      ]
    },
    {
      "cell_type": "code",
      "execution_count": null,
      "id": "ed6f9225",
      "metadata": {
        "id": "ed6f9225",
        "outputId": "155a2e67-9d15-49d0-83e1-958483e22d5a"
      },
      "outputs": [
        {
          "data": {
            "text/plain": [
              "array([ 0,  1,  2,  3,  4,  5,  6,  7,  8,  9, 10, 11, 12, 13, 14, 15, 16,\n",
              "       17, 18, 19, 20, 21, 22, 23, 24])"
            ]
          },
          "execution_count": 24,
          "metadata": {},
          "output_type": "execute_result"
        }
      ],
      "source": [
        "arr"
      ]
    },
    {
      "cell_type": "code",
      "execution_count": null,
      "id": "fe7720d0",
      "metadata": {
        "id": "fe7720d0"
      },
      "outputs": [],
      "source": [
        "arr.resize(5,5) ##arr itself has been changed"
      ]
    },
    {
      "cell_type": "code",
      "execution_count": null,
      "id": "b938f66c",
      "metadata": {
        "id": "b938f66c",
        "outputId": "52fb7183-10c9-46d6-8cda-4a7e3a77c95f"
      },
      "outputs": [
        {
          "data": {
            "text/plain": [
              "array([[ 0,  1,  2,  3,  4],\n",
              "       [ 5,  6,  7,  8,  9],\n",
              "       [10, 11, 12, 13, 14],\n",
              "       [15, 16, 17, 18, 19],\n",
              "       [20, 21, 22, 23, 24]])"
            ]
          },
          "execution_count": 26,
          "metadata": {},
          "output_type": "execute_result"
        }
      ],
      "source": [
        "arr"
      ]
    },
    {
      "cell_type": "markdown",
      "id": "78312c64",
      "metadata": {
        "id": "78312c64"
      },
      "source": [
        "### NumPy Indexing and Slicing\n"
      ]
    },
    {
      "cell_type": "code",
      "execution_count": null,
      "id": "0d417d7f",
      "metadata": {
        "id": "0d417d7f"
      },
      "outputs": [],
      "source": [
        "arr_2d = np.array([[5,10,15],[20,25,30],[35,40,45]])"
      ]
    },
    {
      "cell_type": "code",
      "execution_count": null,
      "id": "7346609d",
      "metadata": {
        "id": "7346609d",
        "outputId": "81a87341-2a6a-41ea-8355-24a37fe82b28"
      },
      "outputs": [
        {
          "data": {
            "text/plain": [
              "array([[ 5, 10, 15],\n",
              "       [20, 25, 30],\n",
              "       [35, 40, 45]])"
            ]
          },
          "execution_count": 31,
          "metadata": {},
          "output_type": "execute_result"
        }
      ],
      "source": [
        "arr_2d"
      ]
    },
    {
      "cell_type": "code",
      "execution_count": null,
      "id": "34f5aebe",
      "metadata": {
        "id": "34f5aebe",
        "outputId": "f8f91882-8fd0-450f-bd8e-fec01a00ddfb"
      },
      "outputs": [
        {
          "data": {
            "text/plain": [
              "array([[10, 15],\n",
              "       [25, 30],\n",
              "       [40, 45]])"
            ]
          },
          "execution_count": 32,
          "metadata": {},
          "output_type": "execute_result"
        }
      ],
      "source": [
        "arr_2d[:,1:] #allrows,from 2nd columns to beyound"
      ]
    },
    {
      "cell_type": "markdown",
      "id": "1a9dd389",
      "metadata": {
        "id": "1a9dd389"
      },
      "source": [
        "#### Conditional Indexing"
      ]
    },
    {
      "cell_type": "code",
      "execution_count": null,
      "id": "3927b088",
      "metadata": {
        "id": "3927b088"
      },
      "outputs": [],
      "source": [
        "arr = np.arange(1,11)"
      ]
    },
    {
      "cell_type": "code",
      "execution_count": null,
      "id": "8132403f",
      "metadata": {
        "id": "8132403f",
        "outputId": "f290943e-15d9-41ec-cf23-826201fec5ad"
      },
      "outputs": [
        {
          "data": {
            "text/plain": [
              "array([ 1,  2,  3,  4,  5,  6,  7,  8,  9, 10])"
            ]
          },
          "execution_count": 34,
          "metadata": {},
          "output_type": "execute_result"
        }
      ],
      "source": [
        "arr"
      ]
    },
    {
      "cell_type": "code",
      "execution_count": null,
      "id": "3ced9d9e",
      "metadata": {
        "id": "3ced9d9e",
        "outputId": "c8e653a4-298d-41c7-ae6d-67d0ae6978c6"
      },
      "outputs": [
        {
          "data": {
            "text/plain": [
              "array([False, False, False, False, False,  True,  True,  True,  True,\n",
              "        True])"
            ]
          },
          "execution_count": 35,
          "metadata": {},
          "output_type": "execute_result"
        }
      ],
      "source": [
        "condition_arr = arr > 5\n",
        "condition_arr"
      ]
    },
    {
      "cell_type": "code",
      "execution_count": null,
      "id": "07e0e12a",
      "metadata": {
        "id": "07e0e12a",
        "outputId": "1724e23a-9f10-4d95-e54b-9d11d33663a3"
      },
      "outputs": [
        {
          "data": {
            "text/plain": [
              "array([ 6,  7,  8,  9, 10])"
            ]
          },
          "execution_count": 36,
          "metadata": {},
          "output_type": "execute_result"
        }
      ],
      "source": [
        "arr[condition_arr]#it returns the elements that imply the conditon"
      ]
    },
    {
      "cell_type": "code",
      "execution_count": null,
      "id": "0c3548e5",
      "metadata": {
        "id": "0c3548e5",
        "outputId": "aafeee57-4aff-42d9-f0c4-370ac48110fc"
      },
      "outputs": [
        {
          "data": {
            "text/plain": [
              "array([1, 2])"
            ]
          },
          "execution_count": 37,
          "metadata": {},
          "output_type": "execute_result"
        }
      ],
      "source": [
        "arr[arr < 3]"
      ]
    },
    {
      "cell_type": "markdown",
      "id": "53f123d2",
      "metadata": {
        "id": "53f123d2"
      },
      "source": [
        "# Pandas\n",
        "\n",
        "- ##### [Pandas] allows for fast analysis and data cleaning and preperation\n",
        "-  ##### [Pandas] can work with data from a wide variety of sources\n",
        "- ##### [Pandas] is an open source module/library built on top of NumPy\n",
        "\n",
        "[Pandas]:https://pandas.pydata.org/docs/index.html\n",
        "\n",
        "\n",
        "#### Pandas contains 2 important datastructures :\n",
        "- Series\n",
        "- DataFrames\n",
        "#### The goal of this section of the course is to understand how to use Series, Datafrmaes and their functions very well and solve your data problems with them!"
      ]
    },
    {
      "cell_type": "markdown",
      "id": "5739a414",
      "metadata": {
        "id": "5739a414"
      },
      "source": [
        "### DataFrames"
      ]
    },
    {
      "cell_type": "code",
      "execution_count": null,
      "id": "36ecf9dc",
      "metadata": {
        "id": "36ecf9dc"
      },
      "outputs": [],
      "source": [
        "from numpy.random import randn"
      ]
    },
    {
      "cell_type": "code",
      "execution_count": null,
      "id": "40c4ed0f",
      "metadata": {
        "id": "40c4ed0f"
      },
      "outputs": [],
      "source": [
        "df = pd.DataFrame(data = randn(5,4),index = ['A','B','C','D','E'],columns = ['F','G','H','I'])"
      ]
    },
    {
      "cell_type": "code",
      "execution_count": null,
      "id": "5f919ce6",
      "metadata": {
        "id": "5f919ce6",
        "outputId": "95f0cacf-86a9-470d-b1a2-eff375991a6a"
      },
      "outputs": [
        {
          "data": {
            "text/html": [
              "<div>\n",
              "<style scoped>\n",
              "    .dataframe tbody tr th:only-of-type {\n",
              "        vertical-align: middle;\n",
              "    }\n",
              "\n",
              "    .dataframe tbody tr th {\n",
              "        vertical-align: top;\n",
              "    }\n",
              "\n",
              "    .dataframe thead th {\n",
              "        text-align: right;\n",
              "    }\n",
              "</style>\n",
              "<table border=\"1\" class=\"dataframe\">\n",
              "  <thead>\n",
              "    <tr style=\"text-align: right;\">\n",
              "      <th></th>\n",
              "      <th>F</th>\n",
              "      <th>G</th>\n",
              "      <th>H</th>\n",
              "      <th>I</th>\n",
              "    </tr>\n",
              "  </thead>\n",
              "  <tbody>\n",
              "    <tr>\n",
              "      <th>A</th>\n",
              "      <td>2.303277</td>\n",
              "      <td>0.351616</td>\n",
              "      <td>1.222363</td>\n",
              "      <td>0.981470</td>\n",
              "    </tr>\n",
              "    <tr>\n",
              "      <th>B</th>\n",
              "      <td>-0.145879</td>\n",
              "      <td>0.040937</td>\n",
              "      <td>0.698930</td>\n",
              "      <td>0.042227</td>\n",
              "    </tr>\n",
              "    <tr>\n",
              "      <th>C</th>\n",
              "      <td>0.204453</td>\n",
              "      <td>-0.239825</td>\n",
              "      <td>-0.270319</td>\n",
              "      <td>1.522518</td>\n",
              "    </tr>\n",
              "    <tr>\n",
              "      <th>D</th>\n",
              "      <td>0.374203</td>\n",
              "      <td>-1.388335</td>\n",
              "      <td>1.048463</td>\n",
              "      <td>1.275341</td>\n",
              "    </tr>\n",
              "    <tr>\n",
              "      <th>E</th>\n",
              "      <td>-0.175504</td>\n",
              "      <td>0.362001</td>\n",
              "      <td>-0.162434</td>\n",
              "      <td>0.461479</td>\n",
              "    </tr>\n",
              "  </tbody>\n",
              "</table>\n",
              "</div>"
            ],
            "text/plain": [
              "          F         G         H         I\n",
              "A  2.303277  0.351616  1.222363  0.981470\n",
              "B -0.145879  0.040937  0.698930  0.042227\n",
              "C  0.204453 -0.239825 -0.270319  1.522518\n",
              "D  0.374203 -1.388335  1.048463  1.275341\n",
              "E -0.175504  0.362001 -0.162434  0.461479"
            ]
          },
          "execution_count": 49,
          "metadata": {},
          "output_type": "execute_result"
        }
      ],
      "source": [
        "df"
      ]
    },
    {
      "cell_type": "code",
      "execution_count": null,
      "id": "ba49564a",
      "metadata": {
        "id": "ba49564a",
        "outputId": "efcf5ceb-e916-4f89-e7bc-989249a4d0f4"
      },
      "outputs": [
        {
          "data": {
            "text/plain": [
              "pandas.core.series.Series"
            ]
          },
          "execution_count": 50,
          "metadata": {},
          "output_type": "execute_result"
        }
      ],
      "source": [
        "type(df['F']) #indexing by column_name [STANDARD]"
      ]
    },
    {
      "cell_type": "code",
      "execution_count": null,
      "id": "3cd0313a",
      "metadata": {
        "id": "3cd0313a",
        "outputId": "91471c61-c1ab-4ed4-de39-c22082bd3ed2"
      },
      "outputs": [
        {
          "data": {
            "text/plain": [
              "A    2.303277\n",
              "B   -0.145879\n",
              "C    0.204453\n",
              "D    0.374203\n",
              "E   -0.175504\n",
              "Name: F, dtype: float64"
            ]
          },
          "execution_count": 51,
          "metadata": {},
          "output_type": "execute_result"
        }
      ],
      "source": [
        "df.F #indexing by dot notation [not recommended]"
      ]
    },
    {
      "cell_type": "code",
      "execution_count": null,
      "id": "2a32b842",
      "metadata": {
        "id": "2a32b842",
        "outputId": "7ade6e62-0156-46d6-e072-1261c6320b78"
      },
      "outputs": [
        {
          "data": {
            "text/html": [
              "<div>\n",
              "<style scoped>\n",
              "    .dataframe tbody tr th:only-of-type {\n",
              "        vertical-align: middle;\n",
              "    }\n",
              "\n",
              "    .dataframe tbody tr th {\n",
              "        vertical-align: top;\n",
              "    }\n",
              "\n",
              "    .dataframe thead th {\n",
              "        text-align: right;\n",
              "    }\n",
              "</style>\n",
              "<table border=\"1\" class=\"dataframe\">\n",
              "  <thead>\n",
              "    <tr style=\"text-align: right;\">\n",
              "      <th></th>\n",
              "      <th>G</th>\n",
              "      <th>F</th>\n",
              "    </tr>\n",
              "  </thead>\n",
              "  <tbody>\n",
              "    <tr>\n",
              "      <th>A</th>\n",
              "      <td>0.351616</td>\n",
              "      <td>2.303277</td>\n",
              "    </tr>\n",
              "    <tr>\n",
              "      <th>B</th>\n",
              "      <td>0.040937</td>\n",
              "      <td>-0.145879</td>\n",
              "    </tr>\n",
              "    <tr>\n",
              "      <th>C</th>\n",
              "      <td>-0.239825</td>\n",
              "      <td>0.204453</td>\n",
              "    </tr>\n",
              "    <tr>\n",
              "      <th>D</th>\n",
              "      <td>-1.388335</td>\n",
              "      <td>0.374203</td>\n",
              "    </tr>\n",
              "    <tr>\n",
              "      <th>E</th>\n",
              "      <td>0.362001</td>\n",
              "      <td>-0.175504</td>\n",
              "    </tr>\n",
              "  </tbody>\n",
              "</table>\n",
              "</div>"
            ],
            "text/plain": [
              "          G         F\n",
              "A  0.351616  2.303277\n",
              "B  0.040937 -0.145879\n",
              "C -0.239825  0.204453\n",
              "D -1.388335  0.374203\n",
              "E  0.362001 -0.175504"
            ]
          },
          "execution_count": 52,
          "metadata": {},
          "output_type": "execute_result"
        }
      ],
      "source": [
        "df[['G','F']] #indexing by a list of column_names"
      ]
    },
    {
      "cell_type": "code",
      "execution_count": null,
      "id": "e50f73c5",
      "metadata": {
        "id": "e50f73c5",
        "outputId": "d97fbd5b-6967-4348-afd5-6352682b5224"
      },
      "outputs": [
        {
          "data": {
            "text/html": [
              "<div>\n",
              "<style scoped>\n",
              "    .dataframe tbody tr th:only-of-type {\n",
              "        vertical-align: middle;\n",
              "    }\n",
              "\n",
              "    .dataframe tbody tr th {\n",
              "        vertical-align: top;\n",
              "    }\n",
              "\n",
              "    .dataframe thead th {\n",
              "        text-align: right;\n",
              "    }\n",
              "</style>\n",
              "<table border=\"1\" class=\"dataframe\">\n",
              "  <thead>\n",
              "    <tr style=\"text-align: right;\">\n",
              "      <th></th>\n",
              "      <th>F</th>\n",
              "      <th>G</th>\n",
              "      <th>H</th>\n",
              "      <th>I</th>\n",
              "      <th>J</th>\n",
              "    </tr>\n",
              "  </thead>\n",
              "  <tbody>\n",
              "    <tr>\n",
              "      <th>A</th>\n",
              "      <td>2.303277</td>\n",
              "      <td>0.351616</td>\n",
              "      <td>1.222363</td>\n",
              "      <td>0.981470</td>\n",
              "      <td>2.203833</td>\n",
              "    </tr>\n",
              "    <tr>\n",
              "      <th>B</th>\n",
              "      <td>-0.145879</td>\n",
              "      <td>0.040937</td>\n",
              "      <td>0.698930</td>\n",
              "      <td>0.042227</td>\n",
              "      <td>0.741157</td>\n",
              "    </tr>\n",
              "    <tr>\n",
              "      <th>C</th>\n",
              "      <td>0.204453</td>\n",
              "      <td>-0.239825</td>\n",
              "      <td>-0.270319</td>\n",
              "      <td>1.522518</td>\n",
              "      <td>1.252199</td>\n",
              "    </tr>\n",
              "    <tr>\n",
              "      <th>D</th>\n",
              "      <td>0.374203</td>\n",
              "      <td>-1.388335</td>\n",
              "      <td>1.048463</td>\n",
              "      <td>1.275341</td>\n",
              "      <td>2.323804</td>\n",
              "    </tr>\n",
              "    <tr>\n",
              "      <th>E</th>\n",
              "      <td>-0.175504</td>\n",
              "      <td>0.362001</td>\n",
              "      <td>-0.162434</td>\n",
              "      <td>0.461479</td>\n",
              "      <td>0.299046</td>\n",
              "    </tr>\n",
              "  </tbody>\n",
              "</table>\n",
              "</div>"
            ],
            "text/plain": [
              "          F         G         H         I         J\n",
              "A  2.303277  0.351616  1.222363  0.981470  2.203833\n",
              "B -0.145879  0.040937  0.698930  0.042227  0.741157\n",
              "C  0.204453 -0.239825 -0.270319  1.522518  1.252199\n",
              "D  0.374203 -1.388335  1.048463  1.275341  2.323804\n",
              "E -0.175504  0.362001 -0.162434  0.461479  0.299046"
            ]
          },
          "execution_count": 53,
          "metadata": {},
          "output_type": "execute_result"
        }
      ],
      "source": [
        "df['J'] = df['I']+df['H'] #Add new column\n",
        "df"
      ]
    },
    {
      "cell_type": "code",
      "execution_count": null,
      "id": "ce92757b",
      "metadata": {
        "id": "ce92757b",
        "outputId": "ce13f9dd-81fe-46e5-8a32-0df20f2fdbc0"
      },
      "outputs": [
        {
          "data": {
            "text/html": [
              "<div>\n",
              "<style scoped>\n",
              "    .dataframe tbody tr th:only-of-type {\n",
              "        vertical-align: middle;\n",
              "    }\n",
              "\n",
              "    .dataframe tbody tr th {\n",
              "        vertical-align: top;\n",
              "    }\n",
              "\n",
              "    .dataframe thead th {\n",
              "        text-align: right;\n",
              "    }\n",
              "</style>\n",
              "<table border=\"1\" class=\"dataframe\">\n",
              "  <thead>\n",
              "    <tr style=\"text-align: right;\">\n",
              "      <th></th>\n",
              "      <th>F</th>\n",
              "      <th>G</th>\n",
              "      <th>H</th>\n",
              "      <th>I</th>\n",
              "    </tr>\n",
              "  </thead>\n",
              "  <tbody>\n",
              "    <tr>\n",
              "      <th>A</th>\n",
              "      <td>2.303277</td>\n",
              "      <td>0.351616</td>\n",
              "      <td>1.222363</td>\n",
              "      <td>0.981470</td>\n",
              "    </tr>\n",
              "    <tr>\n",
              "      <th>B</th>\n",
              "      <td>-0.145879</td>\n",
              "      <td>0.040937</td>\n",
              "      <td>0.698930</td>\n",
              "      <td>0.042227</td>\n",
              "    </tr>\n",
              "    <tr>\n",
              "      <th>C</th>\n",
              "      <td>0.204453</td>\n",
              "      <td>-0.239825</td>\n",
              "      <td>-0.270319</td>\n",
              "      <td>1.522518</td>\n",
              "    </tr>\n",
              "    <tr>\n",
              "      <th>D</th>\n",
              "      <td>0.374203</td>\n",
              "      <td>-1.388335</td>\n",
              "      <td>1.048463</td>\n",
              "      <td>1.275341</td>\n",
              "    </tr>\n",
              "    <tr>\n",
              "      <th>E</th>\n",
              "      <td>-0.175504</td>\n",
              "      <td>0.362001</td>\n",
              "      <td>-0.162434</td>\n",
              "      <td>0.461479</td>\n",
              "    </tr>\n",
              "  </tbody>\n",
              "</table>\n",
              "</div>"
            ],
            "text/plain": [
              "          F         G         H         I\n",
              "A  2.303277  0.351616  1.222363  0.981470\n",
              "B -0.145879  0.040937  0.698930  0.042227\n",
              "C  0.204453 -0.239825 -0.270319  1.522518\n",
              "D  0.374203 -1.388335  1.048463  1.275341\n",
              "E -0.175504  0.362001 -0.162434  0.461479"
            ]
          },
          "execution_count": 54,
          "metadata": {},
          "output_type": "execute_result"
        }
      ],
      "source": [
        "df.drop('J',axis = 1)"
      ]
    },
    {
      "cell_type": "code",
      "execution_count": null,
      "id": "039d2649",
      "metadata": {
        "id": "039d2649",
        "outputId": "7834b444-c448-45bf-b011-9f74daf02f9c"
      },
      "outputs": [
        {
          "data": {
            "text/html": [
              "<div>\n",
              "<style scoped>\n",
              "    .dataframe tbody tr th:only-of-type {\n",
              "        vertical-align: middle;\n",
              "    }\n",
              "\n",
              "    .dataframe tbody tr th {\n",
              "        vertical-align: top;\n",
              "    }\n",
              "\n",
              "    .dataframe thead th {\n",
              "        text-align: right;\n",
              "    }\n",
              "</style>\n",
              "<table border=\"1\" class=\"dataframe\">\n",
              "  <thead>\n",
              "    <tr style=\"text-align: right;\">\n",
              "      <th></th>\n",
              "      <th>F</th>\n",
              "      <th>G</th>\n",
              "      <th>H</th>\n",
              "      <th>I</th>\n",
              "      <th>J</th>\n",
              "    </tr>\n",
              "  </thead>\n",
              "  <tbody>\n",
              "    <tr>\n",
              "      <th>A</th>\n",
              "      <td>2.303277</td>\n",
              "      <td>0.351616</td>\n",
              "      <td>1.222363</td>\n",
              "      <td>0.981470</td>\n",
              "      <td>2.203833</td>\n",
              "    </tr>\n",
              "    <tr>\n",
              "      <th>B</th>\n",
              "      <td>-0.145879</td>\n",
              "      <td>0.040937</td>\n",
              "      <td>0.698930</td>\n",
              "      <td>0.042227</td>\n",
              "      <td>0.741157</td>\n",
              "    </tr>\n",
              "    <tr>\n",
              "      <th>C</th>\n",
              "      <td>0.204453</td>\n",
              "      <td>-0.239825</td>\n",
              "      <td>-0.270319</td>\n",
              "      <td>1.522518</td>\n",
              "      <td>1.252199</td>\n",
              "    </tr>\n",
              "    <tr>\n",
              "      <th>D</th>\n",
              "      <td>0.374203</td>\n",
              "      <td>-1.388335</td>\n",
              "      <td>1.048463</td>\n",
              "      <td>1.275341</td>\n",
              "      <td>2.323804</td>\n",
              "    </tr>\n",
              "    <tr>\n",
              "      <th>E</th>\n",
              "      <td>-0.175504</td>\n",
              "      <td>0.362001</td>\n",
              "      <td>-0.162434</td>\n",
              "      <td>0.461479</td>\n",
              "      <td>0.299046</td>\n",
              "    </tr>\n",
              "  </tbody>\n",
              "</table>\n",
              "</div>"
            ],
            "text/plain": [
              "          F         G         H         I         J\n",
              "A  2.303277  0.351616  1.222363  0.981470  2.203833\n",
              "B -0.145879  0.040937  0.698930  0.042227  0.741157\n",
              "C  0.204453 -0.239825 -0.270319  1.522518  1.252199\n",
              "D  0.374203 -1.388335  1.048463  1.275341  2.323804\n",
              "E -0.175504  0.362001 -0.162434  0.461479  0.299046"
            ]
          },
          "execution_count": 55,
          "metadata": {},
          "output_type": "execute_result"
        }
      ],
      "source": [
        "df #Oops"
      ]
    },
    {
      "cell_type": "code",
      "execution_count": null,
      "id": "9a79849c",
      "metadata": {
        "id": "9a79849c",
        "outputId": "092e98a2-5e25-47be-cb7b-14c06be37bde"
      },
      "outputs": [
        {
          "data": {
            "text/html": [
              "<div>\n",
              "<style scoped>\n",
              "    .dataframe tbody tr th:only-of-type {\n",
              "        vertical-align: middle;\n",
              "    }\n",
              "\n",
              "    .dataframe tbody tr th {\n",
              "        vertical-align: top;\n",
              "    }\n",
              "\n",
              "    .dataframe thead th {\n",
              "        text-align: right;\n",
              "    }\n",
              "</style>\n",
              "<table border=\"1\" class=\"dataframe\">\n",
              "  <thead>\n",
              "    <tr style=\"text-align: right;\">\n",
              "      <th></th>\n",
              "      <th>F</th>\n",
              "      <th>G</th>\n",
              "      <th>H</th>\n",
              "      <th>I</th>\n",
              "    </tr>\n",
              "  </thead>\n",
              "  <tbody>\n",
              "    <tr>\n",
              "      <th>A</th>\n",
              "      <td>2.303277</td>\n",
              "      <td>0.351616</td>\n",
              "      <td>1.222363</td>\n",
              "      <td>0.981470</td>\n",
              "    </tr>\n",
              "    <tr>\n",
              "      <th>B</th>\n",
              "      <td>-0.145879</td>\n",
              "      <td>0.040937</td>\n",
              "      <td>0.698930</td>\n",
              "      <td>0.042227</td>\n",
              "    </tr>\n",
              "    <tr>\n",
              "      <th>C</th>\n",
              "      <td>0.204453</td>\n",
              "      <td>-0.239825</td>\n",
              "      <td>-0.270319</td>\n",
              "      <td>1.522518</td>\n",
              "    </tr>\n",
              "    <tr>\n",
              "      <th>D</th>\n",
              "      <td>0.374203</td>\n",
              "      <td>-1.388335</td>\n",
              "      <td>1.048463</td>\n",
              "      <td>1.275341</td>\n",
              "    </tr>\n",
              "    <tr>\n",
              "      <th>E</th>\n",
              "      <td>-0.175504</td>\n",
              "      <td>0.362001</td>\n",
              "      <td>-0.162434</td>\n",
              "      <td>0.461479</td>\n",
              "    </tr>\n",
              "  </tbody>\n",
              "</table>\n",
              "</div>"
            ],
            "text/plain": [
              "          F         G         H         I\n",
              "A  2.303277  0.351616  1.222363  0.981470\n",
              "B -0.145879  0.040937  0.698930  0.042227\n",
              "C  0.204453 -0.239825 -0.270319  1.522518\n",
              "D  0.374203 -1.388335  1.048463  1.275341\n",
              "E -0.175504  0.362001 -0.162434  0.461479"
            ]
          },
          "execution_count": 56,
          "metadata": {},
          "output_type": "execute_result"
        }
      ],
      "source": [
        "df.drop('J',axis = 1,inplace=True)\n",
        "\n",
        "df #now it is deleted"
      ]
    },
    {
      "cell_type": "code",
      "execution_count": null,
      "id": "30c30a2f",
      "metadata": {
        "id": "30c30a2f",
        "outputId": "8b274fa1-5a7a-4b56-d7d0-e2357d124e42"
      },
      "outputs": [
        {
          "data": {
            "text/plain": [
              "F    2.303277\n",
              "G    0.351616\n",
              "H    1.222363\n",
              "I    0.981470\n",
              "Name: A, dtype: float64"
            ]
          },
          "execution_count": 57,
          "metadata": {},
          "output_type": "execute_result"
        }
      ],
      "source": [
        "df.loc['A'] #indexing by row_name"
      ]
    },
    {
      "cell_type": "code",
      "execution_count": null,
      "id": "098c6440",
      "metadata": {
        "id": "098c6440",
        "outputId": "75ce07b5-c60c-4159-9865-5b74cb7b87e5"
      },
      "outputs": [
        {
          "data": {
            "text/plain": [
              "F    2.303277\n",
              "G    0.351616\n",
              "H    1.222363\n",
              "I    0.981470\n",
              "Name: A, dtype: float64"
            ]
          },
          "execution_count": 58,
          "metadata": {},
          "output_type": "execute_result"
        }
      ],
      "source": [
        "df.iloc[0] #indexing by row_index"
      ]
    },
    {
      "cell_type": "code",
      "execution_count": null,
      "id": "76cdee8f",
      "metadata": {
        "id": "76cdee8f",
        "outputId": "58cc5547-5835-4ccd-e84d-cc55cf8d7122"
      },
      "outputs": [
        {
          "data": {
            "text/plain": [
              "2.3032773842404555"
            ]
          },
          "execution_count": 59,
          "metadata": {},
          "output_type": "execute_result"
        }
      ],
      "source": [
        "df.loc['A','F']"
      ]
    },
    {
      "cell_type": "code",
      "execution_count": null,
      "id": "20421ccf",
      "metadata": {
        "id": "20421ccf",
        "outputId": "e7e2b7cd-33d2-4fc5-d66d-dcd5ba312319"
      },
      "outputs": [
        {
          "data": {
            "text/html": [
              "<div>\n",
              "<style scoped>\n",
              "    .dataframe tbody tr th:only-of-type {\n",
              "        vertical-align: middle;\n",
              "    }\n",
              "\n",
              "    .dataframe tbody tr th {\n",
              "        vertical-align: top;\n",
              "    }\n",
              "\n",
              "    .dataframe thead th {\n",
              "        text-align: right;\n",
              "    }\n",
              "</style>\n",
              "<table border=\"1\" class=\"dataframe\">\n",
              "  <thead>\n",
              "    <tr style=\"text-align: right;\">\n",
              "      <th></th>\n",
              "      <th>F</th>\n",
              "      <th>G</th>\n",
              "    </tr>\n",
              "  </thead>\n",
              "  <tbody>\n",
              "    <tr>\n",
              "      <th>A</th>\n",
              "      <td>2.303277</td>\n",
              "      <td>0.351616</td>\n",
              "    </tr>\n",
              "    <tr>\n",
              "      <th>B</th>\n",
              "      <td>-0.145879</td>\n",
              "      <td>0.040937</td>\n",
              "    </tr>\n",
              "  </tbody>\n",
              "</table>\n",
              "</div>"
            ],
            "text/plain": [
              "          F         G\n",
              "A  2.303277  0.351616\n",
              "B -0.145879  0.040937"
            ]
          },
          "execution_count": 60,
          "metadata": {},
          "output_type": "execute_result"
        }
      ],
      "source": [
        "df.loc[['A','B'],['F','G']] #indexing by list of rows and list of columns"
      ]
    },
    {
      "cell_type": "code",
      "execution_count": null,
      "id": "dadead8c",
      "metadata": {
        "id": "dadead8c",
        "outputId": "47f2eacb-2178-4522-9b6f-fb36ba2c19f5"
      },
      "outputs": [
        {
          "data": {
            "text/html": [
              "<div>\n",
              "<style scoped>\n",
              "    .dataframe tbody tr th:only-of-type {\n",
              "        vertical-align: middle;\n",
              "    }\n",
              "\n",
              "    .dataframe tbody tr th {\n",
              "        vertical-align: top;\n",
              "    }\n",
              "\n",
              "    .dataframe thead th {\n",
              "        text-align: right;\n",
              "    }\n",
              "</style>\n",
              "<table border=\"1\" class=\"dataframe\">\n",
              "  <thead>\n",
              "    <tr style=\"text-align: right;\">\n",
              "      <th></th>\n",
              "      <th>F</th>\n",
              "      <th>G</th>\n",
              "      <th>H</th>\n",
              "      <th>I</th>\n",
              "    </tr>\n",
              "  </thead>\n",
              "  <tbody>\n",
              "    <tr>\n",
              "      <th>A</th>\n",
              "      <td>2.303277</td>\n",
              "      <td>0.351616</td>\n",
              "      <td>1.222363</td>\n",
              "      <td>0.981470</td>\n",
              "    </tr>\n",
              "    <tr>\n",
              "      <th>B</th>\n",
              "      <td>NaN</td>\n",
              "      <td>0.040937</td>\n",
              "      <td>0.698930</td>\n",
              "      <td>0.042227</td>\n",
              "    </tr>\n",
              "    <tr>\n",
              "      <th>C</th>\n",
              "      <td>0.204453</td>\n",
              "      <td>NaN</td>\n",
              "      <td>NaN</td>\n",
              "      <td>1.522518</td>\n",
              "    </tr>\n",
              "    <tr>\n",
              "      <th>D</th>\n",
              "      <td>0.374203</td>\n",
              "      <td>NaN</td>\n",
              "      <td>1.048463</td>\n",
              "      <td>1.275341</td>\n",
              "    </tr>\n",
              "    <tr>\n",
              "      <th>E</th>\n",
              "      <td>NaN</td>\n",
              "      <td>0.362001</td>\n",
              "      <td>NaN</td>\n",
              "      <td>0.461479</td>\n",
              "    </tr>\n",
              "  </tbody>\n",
              "</table>\n",
              "</div>"
            ],
            "text/plain": [
              "          F         G         H         I\n",
              "A  2.303277  0.351616  1.222363  0.981470\n",
              "B       NaN  0.040937  0.698930  0.042227\n",
              "C  0.204453       NaN       NaN  1.522518\n",
              "D  0.374203       NaN  1.048463  1.275341\n",
              "E       NaN  0.362001       NaN  0.461479"
            ]
          },
          "execution_count": 61,
          "metadata": {},
          "output_type": "execute_result"
        }
      ],
      "source": [
        "df[df > 0] #conditional indexing like we did in NumPy"
      ]
    },
    {
      "cell_type": "code",
      "execution_count": null,
      "id": "d2cbc050",
      "metadata": {
        "id": "d2cbc050",
        "outputId": "49fcc486-302e-4932-9f56-7e211150c51d"
      },
      "outputs": [
        {
          "data": {
            "text/html": [
              "<div>\n",
              "<style scoped>\n",
              "    .dataframe tbody tr th:only-of-type {\n",
              "        vertical-align: middle;\n",
              "    }\n",
              "\n",
              "    .dataframe tbody tr th {\n",
              "        vertical-align: top;\n",
              "    }\n",
              "\n",
              "    .dataframe thead th {\n",
              "        text-align: right;\n",
              "    }\n",
              "</style>\n",
              "<table border=\"1\" class=\"dataframe\">\n",
              "  <thead>\n",
              "    <tr style=\"text-align: right;\">\n",
              "      <th></th>\n",
              "      <th>F</th>\n",
              "      <th>G</th>\n",
              "      <th>H</th>\n",
              "      <th>I</th>\n",
              "    </tr>\n",
              "  </thead>\n",
              "  <tbody>\n",
              "    <tr>\n",
              "      <th>A</th>\n",
              "      <td>2.303277</td>\n",
              "      <td>0.351616</td>\n",
              "      <td>1.222363</td>\n",
              "      <td>0.981470</td>\n",
              "    </tr>\n",
              "    <tr>\n",
              "      <th>C</th>\n",
              "      <td>0.204453</td>\n",
              "      <td>-0.239825</td>\n",
              "      <td>-0.270319</td>\n",
              "      <td>1.522518</td>\n",
              "    </tr>\n",
              "    <tr>\n",
              "      <th>D</th>\n",
              "      <td>0.374203</td>\n",
              "      <td>-1.388335</td>\n",
              "      <td>1.048463</td>\n",
              "      <td>1.275341</td>\n",
              "    </tr>\n",
              "  </tbody>\n",
              "</table>\n",
              "</div>"
            ],
            "text/plain": [
              "          F         G         H         I\n",
              "A  2.303277  0.351616  1.222363  0.981470\n",
              "C  0.204453 -0.239825 -0.270319  1.522518\n",
              "D  0.374203 -1.388335  1.048463  1.275341"
            ]
          },
          "execution_count": 62,
          "metadata": {},
          "output_type": "execute_result"
        }
      ],
      "source": [
        "df[df['F'] > 0] #The rows which values in F column > 0"
      ]
    },
    {
      "cell_type": "code",
      "execution_count": null,
      "id": "a84708ff",
      "metadata": {
        "id": "a84708ff",
        "outputId": "2b3b4996-8e70-4995-9da0-adcda52a8791"
      },
      "outputs": [
        {
          "data": {
            "text/html": [
              "<div>\n",
              "<style scoped>\n",
              "    .dataframe tbody tr th:only-of-type {\n",
              "        vertical-align: middle;\n",
              "    }\n",
              "\n",
              "    .dataframe tbody tr th {\n",
              "        vertical-align: top;\n",
              "    }\n",
              "\n",
              "    .dataframe thead th {\n",
              "        text-align: right;\n",
              "    }\n",
              "</style>\n",
              "<table border=\"1\" class=\"dataframe\">\n",
              "  <thead>\n",
              "    <tr style=\"text-align: right;\">\n",
              "      <th></th>\n",
              "      <th>F</th>\n",
              "      <th>G</th>\n",
              "      <th>H</th>\n",
              "      <th>I</th>\n",
              "    </tr>\n",
              "  </thead>\n",
              "  <tbody>\n",
              "    <tr>\n",
              "      <th>C</th>\n",
              "      <td>0.204453</td>\n",
              "      <td>-0.239825</td>\n",
              "      <td>-0.270319</td>\n",
              "      <td>1.522518</td>\n",
              "    </tr>\n",
              "    <tr>\n",
              "      <th>D</th>\n",
              "      <td>0.374203</td>\n",
              "      <td>-1.388335</td>\n",
              "      <td>1.048463</td>\n",
              "      <td>1.275341</td>\n",
              "    </tr>\n",
              "  </tbody>\n",
              "</table>\n",
              "</div>"
            ],
            "text/plain": [
              "          F         G         H         I\n",
              "C  0.204453 -0.239825 -0.270319  1.522518\n",
              "D  0.374203 -1.388335  1.048463  1.275341"
            ]
          },
          "execution_count": 63,
          "metadata": {},
          "output_type": "execute_result"
        }
      ],
      "source": [
        "df[(df['F'] > 0) & (df['G'] <= 0)] #multiple conditions"
      ]
    },
    {
      "cell_type": "code",
      "execution_count": null,
      "id": "ce34ffca",
      "metadata": {
        "id": "ce34ffca",
        "outputId": "db21c825-bdb2-4e2d-e15a-d6e4dd90320f"
      },
      "outputs": [
        {
          "data": {
            "text/html": [
              "<div>\n",
              "<style scoped>\n",
              "    .dataframe tbody tr th:only-of-type {\n",
              "        vertical-align: middle;\n",
              "    }\n",
              "\n",
              "    .dataframe tbody tr th {\n",
              "        vertical-align: top;\n",
              "    }\n",
              "\n",
              "    .dataframe thead th {\n",
              "        text-align: right;\n",
              "    }\n",
              "</style>\n",
              "<table border=\"1\" class=\"dataframe\">\n",
              "  <thead>\n",
              "    <tr style=\"text-align: right;\">\n",
              "      <th></th>\n",
              "      <th>F</th>\n",
              "      <th>G</th>\n",
              "      <th>H</th>\n",
              "      <th>I</th>\n",
              "    </tr>\n",
              "  </thead>\n",
              "  <tbody>\n",
              "    <tr>\n",
              "      <th>A</th>\n",
              "      <td>2.303277</td>\n",
              "      <td>0.351616</td>\n",
              "      <td>1.222363</td>\n",
              "      <td>0.981470</td>\n",
              "    </tr>\n",
              "    <tr>\n",
              "      <th>C</th>\n",
              "      <td>0.204453</td>\n",
              "      <td>-0.239825</td>\n",
              "      <td>-0.270319</td>\n",
              "      <td>1.522518</td>\n",
              "    </tr>\n",
              "    <tr>\n",
              "      <th>D</th>\n",
              "      <td>0.374203</td>\n",
              "      <td>-1.388335</td>\n",
              "      <td>1.048463</td>\n",
              "      <td>1.275341</td>\n",
              "    </tr>\n",
              "  </tbody>\n",
              "</table>\n",
              "</div>"
            ],
            "text/plain": [
              "          F         G         H         I\n",
              "A  2.303277  0.351616  1.222363  0.981470\n",
              "C  0.204453 -0.239825 -0.270319  1.522518\n",
              "D  0.374203 -1.388335  1.048463  1.275341"
            ]
          },
          "execution_count": 64,
          "metadata": {},
          "output_type": "execute_result"
        }
      ],
      "source": [
        "df[(df['F'] > 0) | (df['G'] <= 0)] #multiple conditions"
      ]
    },
    {
      "cell_type": "code",
      "execution_count": null,
      "id": "0b3a2b47",
      "metadata": {
        "id": "0b3a2b47",
        "outputId": "bd3fd320-d119-402c-a860-1e3c0cc2287b"
      },
      "outputs": [
        {
          "data": {
            "text/html": [
              "<div>\n",
              "<style scoped>\n",
              "    .dataframe tbody tr th:only-of-type {\n",
              "        vertical-align: middle;\n",
              "    }\n",
              "\n",
              "    .dataframe tbody tr th {\n",
              "        vertical-align: top;\n",
              "    }\n",
              "\n",
              "    .dataframe thead th {\n",
              "        text-align: right;\n",
              "    }\n",
              "</style>\n",
              "<table border=\"1\" class=\"dataframe\">\n",
              "  <thead>\n",
              "    <tr style=\"text-align: right;\">\n",
              "      <th></th>\n",
              "      <th>index</th>\n",
              "      <th>F</th>\n",
              "      <th>G</th>\n",
              "      <th>H</th>\n",
              "      <th>I</th>\n",
              "    </tr>\n",
              "  </thead>\n",
              "  <tbody>\n",
              "    <tr>\n",
              "      <th>0</th>\n",
              "      <td>A</td>\n",
              "      <td>2.303277</td>\n",
              "      <td>0.351616</td>\n",
              "      <td>1.222363</td>\n",
              "      <td>0.981470</td>\n",
              "    </tr>\n",
              "    <tr>\n",
              "      <th>1</th>\n",
              "      <td>B</td>\n",
              "      <td>-0.145879</td>\n",
              "      <td>0.040937</td>\n",
              "      <td>0.698930</td>\n",
              "      <td>0.042227</td>\n",
              "    </tr>\n",
              "    <tr>\n",
              "      <th>2</th>\n",
              "      <td>C</td>\n",
              "      <td>0.204453</td>\n",
              "      <td>-0.239825</td>\n",
              "      <td>-0.270319</td>\n",
              "      <td>1.522518</td>\n",
              "    </tr>\n",
              "    <tr>\n",
              "      <th>3</th>\n",
              "      <td>D</td>\n",
              "      <td>0.374203</td>\n",
              "      <td>-1.388335</td>\n",
              "      <td>1.048463</td>\n",
              "      <td>1.275341</td>\n",
              "    </tr>\n",
              "    <tr>\n",
              "      <th>4</th>\n",
              "      <td>E</td>\n",
              "      <td>-0.175504</td>\n",
              "      <td>0.362001</td>\n",
              "      <td>-0.162434</td>\n",
              "      <td>0.461479</td>\n",
              "    </tr>\n",
              "  </tbody>\n",
              "</table>\n",
              "</div>"
            ],
            "text/plain": [
              "  index         F         G         H         I\n",
              "0     A  2.303277  0.351616  1.222363  0.981470\n",
              "1     B -0.145879  0.040937  0.698930  0.042227\n",
              "2     C  0.204453 -0.239825 -0.270319  1.522518\n",
              "3     D  0.374203 -1.388335  1.048463  1.275341\n",
              "4     E -0.175504  0.362001 -0.162434  0.461479"
            ]
          },
          "execution_count": 65,
          "metadata": {},
          "output_type": "execute_result"
        }
      ],
      "source": [
        "df.reset_index()"
      ]
    },
    {
      "cell_type": "code",
      "execution_count": null,
      "id": "2d8cb169",
      "metadata": {
        "id": "2d8cb169",
        "outputId": "b672772b-7bac-4719-ee77-bc37ea008557"
      },
      "outputs": [
        {
          "data": {
            "text/html": [
              "<div>\n",
              "<style scoped>\n",
              "    .dataframe tbody tr th:only-of-type {\n",
              "        vertical-align: middle;\n",
              "    }\n",
              "\n",
              "    .dataframe tbody tr th {\n",
              "        vertical-align: top;\n",
              "    }\n",
              "\n",
              "    .dataframe thead th {\n",
              "        text-align: right;\n",
              "    }\n",
              "</style>\n",
              "<table border=\"1\" class=\"dataframe\">\n",
              "  <thead>\n",
              "    <tr style=\"text-align: right;\">\n",
              "      <th></th>\n",
              "      <th>F</th>\n",
              "      <th>G</th>\n",
              "      <th>H</th>\n",
              "      <th>I</th>\n",
              "    </tr>\n",
              "  </thead>\n",
              "  <tbody>\n",
              "    <tr>\n",
              "      <th>A</th>\n",
              "      <td>2.303277</td>\n",
              "      <td>0.351616</td>\n",
              "      <td>1.222363</td>\n",
              "      <td>0.981470</td>\n",
              "    </tr>\n",
              "    <tr>\n",
              "      <th>B</th>\n",
              "      <td>-0.145879</td>\n",
              "      <td>0.040937</td>\n",
              "      <td>0.698930</td>\n",
              "      <td>0.042227</td>\n",
              "    </tr>\n",
              "    <tr>\n",
              "      <th>C</th>\n",
              "      <td>0.204453</td>\n",
              "      <td>-0.239825</td>\n",
              "      <td>-0.270319</td>\n",
              "      <td>1.522518</td>\n",
              "    </tr>\n",
              "    <tr>\n",
              "      <th>D</th>\n",
              "      <td>0.374203</td>\n",
              "      <td>-1.388335</td>\n",
              "      <td>1.048463</td>\n",
              "      <td>1.275341</td>\n",
              "    </tr>\n",
              "    <tr>\n",
              "      <th>E</th>\n",
              "      <td>-0.175504</td>\n",
              "      <td>0.362001</td>\n",
              "      <td>-0.162434</td>\n",
              "      <td>0.461479</td>\n",
              "    </tr>\n",
              "  </tbody>\n",
              "</table>\n",
              "</div>"
            ],
            "text/plain": [
              "          F         G         H         I\n",
              "A  2.303277  0.351616  1.222363  0.981470\n",
              "B -0.145879  0.040937  0.698930  0.042227\n",
              "C  0.204453 -0.239825 -0.270319  1.522518\n",
              "D  0.374203 -1.388335  1.048463  1.275341\n",
              "E -0.175504  0.362001 -0.162434  0.461479"
            ]
          },
          "execution_count": 67,
          "metadata": {},
          "output_type": "execute_result"
        }
      ],
      "source": [
        "df #Oops"
      ]
    },
    {
      "cell_type": "code",
      "execution_count": null,
      "id": "5479a63a",
      "metadata": {
        "id": "5479a63a"
      },
      "outputs": [],
      "source": [
        "df.reset_index(inplace=True)"
      ]
    },
    {
      "cell_type": "code",
      "execution_count": null,
      "id": "2f6105e9",
      "metadata": {
        "id": "2f6105e9",
        "outputId": "79feffe6-f02e-4dd9-87b8-f5c92b7ad025"
      },
      "outputs": [
        {
          "data": {
            "text/plain": [
              "0    A\n",
              "1    B\n",
              "2    C\n",
              "3    D\n",
              "4    E\n",
              "Name: index, dtype: object"
            ]
          },
          "execution_count": 69,
          "metadata": {},
          "output_type": "execute_result"
        }
      ],
      "source": [
        "df['index'] #it works :)"
      ]
    },
    {
      "cell_type": "markdown",
      "id": "4c19a678",
      "metadata": {
        "id": "4c19a678"
      },
      "source": [
        "# Matplotlib\n",
        "\n",
        "- The most popular plotting library for Python\n",
        "- It was desgined to have a similar feel to MatLab's / Octave's graphical plotting"
      ]
    },
    {
      "cell_type": "code",
      "execution_count": null,
      "id": "200f5846",
      "metadata": {
        "id": "200f5846"
      },
      "outputs": [],
      "source": [
        "x = np.linspace(0,5,11) #range of numbers from 0 to 5 and create 11 points between them\n",
        "y = x**2"
      ]
    },
    {
      "cell_type": "code",
      "execution_count": null,
      "id": "7b37992d",
      "metadata": {
        "id": "7b37992d",
        "outputId": "c232ba91-4ec3-4fa0-da4b-f1c1a3e94509"
      },
      "outputs": [
        {
          "data": {
            "text/plain": [
              "(array([0. , 0.5, 1. , 1.5, 2. , 2.5, 3. , 3.5, 4. , 4.5, 5. ]),\n",
              " array([ 0.  ,  0.25,  1.  ,  2.25,  4.  ,  6.25,  9.  , 12.25, 16.  ,\n",
              "        20.25, 25.  ]))"
            ]
          },
          "execution_count": 71,
          "metadata": {},
          "output_type": "execute_result"
        }
      ],
      "source": [
        "x,y"
      ]
    },
    {
      "cell_type": "code",
      "execution_count": null,
      "id": "6ba65e9e",
      "metadata": {
        "id": "6ba65e9e",
        "outputId": "6435e2dc-235f-422c-99d6-f13a4c1721df"
      },
      "outputs": [
        {
          "data": {
            "image/png": "[encoded data removed]",
            "text/plain": [
              "<Figure size 432x288 with 2 Axes>"
            ]
          },
          "metadata": {
            "needs_background": "light"
          },
          "output_type": "display_data"
        }
      ],
      "source": [
        "plt.subplot(1,2,1)\n",
        "plt.title('y = x^2')\n",
        "plt.plot(x,y,'g')\n",
        "\n",
        "plt.subplot(1,2,2)\n",
        "plt.title('x = sqrt(y)')\n",
        "plt.plot(y,x,'b')\n",
        "\n",
        "plt.show()"
      ]
    },
    {
      "cell_type": "code",
      "execution_count": null,
      "id": "0079b22e",
      "metadata": {
        "id": "0079b22e",
        "outputId": "fa7729e0-9484-4a27-95a9-7e341fea2c44"
      },
      "outputs": [
        {
          "data": {
            "image/png": "[encoded data removed]",
            "text/plain": [
              "<Figure size 432x288 with 1 Axes>"
            ]
          },
          "metadata": {
            "needs_background": "light"
          },
          "output_type": "display_data"
        }
      ],
      "source": [
        "#OOP (another way)\n",
        "fig = plt.figure()\n",
        "\n",
        "axes = fig.add_axes([0.1,0.1,0.8,0.8]) #left,bottom,height,width\n",
        "axes.plot(x,y)\n",
        "axes.set_xlabel('X axis')\n",
        "axes.set_ylabel('Y axis')\n",
        "axes.set_title('X^2')\n",
        "plt.show()"
      ]
    },
    {
      "cell_type": "code",
      "execution_count": null,
      "id": "dbbfa90b",
      "metadata": {
        "id": "dbbfa90b",
        "outputId": "edf2e264-ec0e-480b-ff17-91fc11f2906d"
      },
      "outputs": [
        {
          "data": {
            "image/png": "[encoded data removed]",
            "text/plain": [
              "<Figure size 432x288 with 1 Axes>"
            ]
          },
          "metadata": {
            "needs_background": "light"
          },
          "output_type": "display_data"
        }
      ],
      "source": [
        "fig = plt.figure()\n",
        "axes = fig.add_axes([0.1,0.1,0.8,0.8]) #left,bottom,height,width\n",
        "\n",
        "axes.plot(y,x)\n",
        "axes.set_xlabel('X axis')\n",
        "axes.set_ylabel('Y axis')\n",
        "axes.set_title('sqrt(X)')\n",
        "plt.show()"
      ]
    },
    {
      "cell_type": "code",
      "execution_count": null,
      "id": "0f491f66",
      "metadata": {
        "id": "0f491f66",
        "outputId": "03731e38-20c0-4be3-9c6f-012686b1901d"
      },
      "outputs": [
        {
          "data": {
            "text/plain": [
              "<matplotlib.axes._axes.Axes at 0x17c7f889a58>"
            ]
          },
          "execution_count": 82,
          "metadata": {},
          "output_type": "execute_result"
        },
        {
          "data": {
            "image/png": "[encoded data removed]",
            "text/plain": [
              "<Figure size 432x288 with 2 Axes>"
            ]
          },
          "metadata": {
            "needs_background": "light"
          },
          "output_type": "display_data"
        }
      ],
      "source": [
        "fig = plt.figure()\n",
        "axes1 = fig.add_axes([0.1,0.1,0.8,0.8])\n",
        "axes2 = fig.add_axes([0.2,0.5,0.4,0.3])\n",
        "axes2.set_title('x = y ^ 2')\n",
        "axes1.set_title('y = x ^ 2')\n",
        "axes2.plot(y,x,'r')\n",
        "axes1.plot(x,y,'b')"
      ]
    },
    {
      "cell_type": "code",
      "execution_count": null,
      "id": "af585051",
      "metadata": {
        "id": "af585051",
        "outputId": "48f926d1-cd61-4977-802c-85553d9ca49a"
      },
      "outputs": [
        {
          "data": {
            "text/plain": [
              "[<matplotlib.lines.Line2D at 0x17c7f9aff98>]"
            ]
          },
          "execution_count": 83,
          "metadata": {},
          "output_type": "execute_result"
        },
        {
          "data": {
            "image/png": "[encoded data removed]",
            "text/plain": [
              "<Figure size 432x288 with 2 Axes>"
            ]
          },
          "metadata": {
            "needs_background": "light"
          },
          "output_type": "display_data"
        }
      ],
      "source": [
        "fig,axes = plt.subplots(nrows=1,ncols=2)\n",
        "#axes.plot(x,y)\n",
        "plt.tight_layout()\n",
        "axes[0].plot(x,y,'r')\n",
        "axes[1].plot(y,x,'b')"
      ]
    },
    {
      "cell_type": "code",
      "execution_count": null,
      "id": "836c1fb5",
      "metadata": {
        "id": "836c1fb5",
        "outputId": "560c127c-cdd5-4e4c-d84d-208ecf45ab9e"
      },
      "outputs": [
        {
          "data": {
            "text/plain": [
              "<matplotlib.legend.Legend at 0x17c7fa676a0>"
            ]
          },
          "execution_count": 86,
          "metadata": {},
          "output_type": "execute_result"
        },
        {
          "data": {
            "image/png": "[encoded data removed]",
            "text/plain": [
              "<Figure size 432x288 with 1 Axes>"
            ]
          },
          "metadata": {
            "needs_background": "light"
          },
          "output_type": "display_data"
        }
      ],
      "source": [
        "fig  = plt.figure()\n",
        "ax = fig.add_axes([0,0,1,1])\n",
        "ax.plot(x,x**2,label='parabola')\n",
        "ax.plot(x,x,label='line')\n",
        "ax.plot(x,x**3,label = 'cubic')\n",
        "ax.legend() #check it in docs"
      ]
    },
    {
      "cell_type": "markdown",
      "id": "fd1639f1",
      "metadata": {
        "id": "fd1639f1"
      },
      "source": [
        "### Plot Apperance\n"
      ]
    },
    {
      "cell_type": "code",
      "execution_count": null,
      "id": "03e1eaf1",
      "metadata": {
        "id": "03e1eaf1",
        "outputId": "eddf31ec-b501-4989-c36b-e9a7bbe2c7e6"
      },
      "outputs": [
        {
          "data": {
            "text/plain": [
              "[<matplotlib.lines.Line2D at 0x17c7f89bb00>]"
            ]
          },
          "execution_count": 87,
          "metadata": {},
          "output_type": "execute_result"
        },
        {
          "data": {
            "image/png": "[encoded data removed]",
            "text/plain": [
              "<Figure size 432x288 with 1 Axes>"
            ]
          },
          "metadata": {
            "needs_background": "light"
          },
          "output_type": "display_data"
        }
      ],
      "source": [
        "fig  = plt.figure()\n",
        "ax  = fig.add_axes([0,0,1,1])\n",
        "#ax.set_xlim([0,10])\n",
        "ax.plot(x,y,color='#437e77',lw=2,alpha=1,linestyle='--',marker = '*',markersize=10,markerfacecolor='#437e77') #default color names or rgb hex codes"
      ]
    },
    {
      "cell_type": "code",
      "execution_count": null,
      "id": "aa79c77f",
      "metadata": {
        "id": "aa79c77f"
      },
      "outputs": [],
      "source": [
        ""
      ]
    }
  ],
  "metadata": {
    "kernelspec": {
      "display_name": "Python 3 (ipykernel)",
      "language": "python",
      "name": "python3"
    },
    "language_info": {
      "codemirror_mode": {
        "name": "ipython",
        "version": 3
      },
      "file_extension": ".py",
      "mimetype": "text/x-python",
      "name": "python",
      "nbconvert_exporter": "python",
      "pygments_lexer": "ipython3",
      "version": "3.9.7"
    },
    "colab": {
      "name": "FirstSession-ML-Spring2022.ipynb",
      "provenance": [],
      "collapsed_sections": [],
      "include_colab_link": true
    }
  },
  "nbformat": 4,
  "nbformat_minor": 5
}